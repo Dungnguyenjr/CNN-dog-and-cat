{
 "cells": [
  {
   "cell_type": "code",
   "execution_count": 1,
   "id": "ee4dd734",
   "metadata": {},
   "outputs": [],
   "source": [
    "import pandas as pd\n",
    "import numpy as np\n",
    "import os\n",
    "from shutil import copyfile\n",
    "import random\n",
    "import tensorflow as tf\n",
    "from tensorflow.keras.optimizers import Adam\n",
    "from tensorflow.keras.preprocessing.image import ImageDataGenerator\n",
    "import matplotlib.pyplot as plt\n",
    "import cv2\n",
    "from sklearn.model_selection import train_test_split\n",
    "from keras.models import load_model\n",
    "from sklearn.metrics import precision_score, recall_score, f1_score, roc_auc_score"
   ]
  },
  {
   "cell_type": "code",
   "execution_count": 2,
   "id": "c370ea49",
   "metadata": {},
   "outputs": [],
   "source": [
    "# Đọc tệp CSV\n",
    "input_data = pd.read_csv('input.csv')\n",
    "labels = pd.read_csv('labels.csv')\n",
    "input_test = pd.read_csv('input_test.csv')\n",
    "labels_test = pd.read_csv('labels_test.csv')"
   ]
  },
  {
   "cell_type": "code",
   "execution_count": 3,
   "id": "abe872d3",
   "metadata": {},
   "outputs": [
    {
     "name": "stdout",
     "output_type": "stream",
     "text": [
      "   3.700000000000000000e+01  3.900000000000000000e+01  \\\n",
      "0                     131.0                     128.0   \n",
      "1                      80.0                      92.0   \n",
      "2                     149.0                     173.0   \n",
      "3                     255.0                     254.0   \n",
      "4                     111.0                     117.0   \n",
      "\n",
      "   2.500000000000000000e+01  2.600000000000000000e+01  \\\n",
      "0                     135.0                     160.0   \n",
      "1                      88.0                      83.0   \n",
      "2                     151.0                     131.0   \n",
      "3                     239.0                     253.0   \n",
      "4                     117.0                     107.0   \n",
      "\n",
      "   2.400000000000000000e+01  9.000000000000000000e+00  \\\n",
      "0                     157.0                     164.0   \n",
      "1                      96.0                      89.0   \n",
      "2                     153.0                     132.0   \n",
      "3                     246.0                     228.0   \n",
      "4                     113.0                     113.0   \n",
      "\n",
      "   3.400000000000000000e+01  2.500000000000000000e+01.1  \\\n",
      "0                     198.0                       192.0   \n",
      "1                      76.0                        92.0   \n",
      "2                     156.0                       173.0   \n",
      "3                     255.0                       252.0   \n",
      "4                     111.0                       117.0   \n",
      "\n",
      "   1.000000000000000000e+01  4.900000000000000000e+01  ...  \\\n",
      "0                     204.0                     204.0  ...   \n",
      "1                      82.0                      74.0  ...   \n",
      "2                     155.0                     143.0  ...   \n",
      "3                     233.0                     254.0  ...   \n",
      "4                     117.0                     122.0  ...   \n",
      "\n",
      "   2.100000000000000000e+01.135  6.700000000000000000e+01.232  \\\n",
      "0                          65.0                          63.0   \n",
      "1                          99.0                         133.0   \n",
      "2                          57.0                          48.0   \n",
      "3                         234.0                         255.0   \n",
      "4                         135.0                         164.0   \n",
      "\n",
      "   6.300000000000000000e+01.242  3.800000000000000000e+01.309  \\\n",
      "0                          91.0                          69.0   \n",
      "1                         128.0                         109.0   \n",
      "2                          48.0                          58.0   \n",
      "3                         254.0                         234.0   \n",
      "4                         168.0                         179.0   \n",
      "\n",
      "   7.800000000000000000e+01.179  7.400000000000000000e+01.218  \\\n",
      "0                          62.0                          87.0   \n",
      "1                         119.0                         114.0   \n",
      "2                          51.0                          51.0   \n",
      "3                         255.0                         254.0   \n",
      "4                         147.0                         147.0   \n",
      "\n",
      "   4.900000000000000000e+01.302  5.800000000000000000e+01.260  \\\n",
      "0                          65.0                          71.0   \n",
      "1                          94.0                         124.0   \n",
      "2                          61.0                          56.0   \n",
      "3                         234.0                         254.0   \n",
      "4                         157.0                         100.0   \n",
      "\n",
      "   5.400000000000000000e+01.266  2.900000000000000000e+01.298  \n",
      "0                          96.0                          74.0  \n",
      "1                         119.0                          99.0  \n",
      "2                          56.0                          66.0  \n",
      "3                         253.0                         233.0  \n",
      "4                         100.0                         108.0  \n",
      "\n",
      "[5 rows x 30000 columns]\n",
      "   0\n",
      "0  0\n",
      "1  0\n",
      "2  0\n",
      "3  0\n",
      "4  0\n",
      "   1.180000000000000000e+02  8.200000000000000000e+01  \\\n",
      "0                     223.0                     211.0   \n",
      "1                      73.0                      67.0   \n",
      "2                       0.0                       3.0   \n",
      "3                      27.0                      55.0   \n",
      "4                     121.0                     122.0   \n",
      "\n",
      "   9.600000000000000000e+01  1.090000000000000000e+02  \\\n",
      "0                     163.0                     223.0   \n",
      "1                      43.0                      75.0   \n",
      "2                       1.0                      18.0   \n",
      "3                      76.0                      73.0   \n",
      "4                     114.0                      96.0   \n",
      "\n",
      "   7.100000000000000000e+01  8.200000000000000000e+01.1  \\\n",
      "0                     209.0                       160.0   \n",
      "1                      69.0                        45.0   \n",
      "2                      24.0                        22.0   \n",
      "3                     105.0                       126.0   \n",
      "4                     102.0                        90.0   \n",
      "\n",
      "   1.160000000000000000e+02  7.700000000000000000e+01  \\\n",
      "0                     244.0                     228.0   \n",
      "1                      79.0                      71.0   \n",
      "2                      34.0                      40.0   \n",
      "3                     115.0                     151.0   \n",
      "4                      51.0                      64.0   \n",
      "\n",
      "   7.800000000000000000e+01  1.110000000000000000e+02  ...  \\\n",
      "0                     179.0                     226.0  ...   \n",
      "1                      50.0                      80.0  ...   \n",
      "2                      38.0                       0.0  ...   \n",
      "3                     175.0                     105.0  ...   \n",
      "4                      47.0                     149.0  ...   \n",
      "\n",
      "   3.700000000000000000e+01.20  1.230000000000000000e+02.78  \\\n",
      "0                         65.0                         69.0   \n",
      "1                        168.0                        224.0   \n",
      "2                         13.0                          6.0   \n",
      "3                        151.0                        178.0   \n",
      "4                         39.0                        126.0   \n",
      "\n",
      "   7.300000000000000000e+01.49  4.000000000000000000e+01.28  \\\n",
      "0                         73.0                         76.0   \n",
      "1                        213.0                        167.0   \n",
      "2                          6.0                          8.0   \n",
      "3                        164.0                        163.0   \n",
      "4                        143.0                         73.0   \n",
      "\n",
      "   1.390000000000000000e+02.108  8.200000000000000000e+01.66  \\\n",
      "0                          69.0                         72.0   \n",
      "1                         223.0                        212.0   \n",
      "2                           6.0                          7.0   \n",
      "3                         193.0                        175.0   \n",
      "4                         107.0                        127.0   \n",
      "\n",
      "   2.900000000000000000e+01.21  1.400000000000000000e+02.109  \\\n",
      "0                         77.0                          70.0   \n",
      "1                        166.0                         222.0   \n",
      "2                          9.0                          10.0   \n",
      "3                        171.0                         183.0   \n",
      "4                         58.0                          77.0   \n",
      "\n",
      "   7.900000000000000000e+01.49  1.600000000000000000e+01.30  \n",
      "0                         73.0                         78.0  \n",
      "1                        211.0                        165.0  \n",
      "2                         11.0                         13.0  \n",
      "3                        164.0                        158.0  \n",
      "4                         97.0                         28.0  \n",
      "\n",
      "[5 rows x 30000 columns]\n",
      "   0\n",
      "0  0\n",
      "1  0\n",
      "2  0\n",
      "3  0\n",
      "4  0\n"
     ]
    }
   ],
   "source": [
    "# Hiển thị dữ liệu\n",
    "print(input_data.head())\n",
    "print(labels.head())\n",
    "print(input_test.head())\n",
    "print(labels_test.head())"
   ]
  },
  {
   "cell_type": "code",
   "execution_count": 4,
   "id": "c8f18f2c",
   "metadata": {},
   "outputs": [],
   "source": [
    "X_train = np.array(input_data)\n",
    "Y_train = np.array(labels)\n",
    "X_test = np.array(input_test)\n",
    "Y_test = np.array(labels_test)"
   ]
  },
  {
   "cell_type": "code",
   "execution_count": 5,
   "id": "6251b7b2",
   "metadata": {},
   "outputs": [],
   "source": [
    "X_train = X_train.reshape(len(X_train), 100, 100,3) \n",
    "Y_train = Y_train.reshape(len(Y_train), 1)"
   ]
  },
  {
   "cell_type": "code",
   "execution_count": 6,
   "id": "118c4119",
   "metadata": {},
   "outputs": [],
   "source": [
    "X_test = X_test.reshape(len(X_test), 100, 100,3)\n",
    "Y_test = Y_test.reshape(len(Y_test),1)"
   ]
  },
  {
   "cell_type": "code",
   "execution_count": 7,
   "id": "3b7922a6",
   "metadata": {},
   "outputs": [],
   "source": [
    "X_train = X_train/255\n",
    "X_test = X_test/255"
   ]
  },
  {
   "cell_type": "code",
   "execution_count": 8,
   "id": "89a7671f",
   "metadata": {},
   "outputs": [
    {
     "name": "stdout",
     "output_type": "stream",
     "text": [
      "(1999, 100, 100, 3)\n",
      "(399, 100, 100, 3)\n"
     ]
    }
   ],
   "source": [
    "print(X_train.shape)\n",
    "print(X_test.shape)"
   ]
  },
  {
   "cell_type": "code",
   "execution_count": 9,
   "id": "30c8f8c9",
   "metadata": {},
   "outputs": [],
   "source": [
    "# Định nghĩa mô hình\n",
    "def create_model():\n",
    "    model = tf.keras.models.Sequential([\n",
    "        tf.keras.layers.Conv2D(32, (3,3), activation='relu', input_shape=(100, 100, 3)),\n",
    "        tf.keras.layers.MaxPooling2D(2, 2),\n",
    "        tf.keras.layers.Conv2D(64, (3,3), activation='relu'),\n",
    "        tf.keras.layers.MaxPooling2D(2,2),\n",
    "        tf.keras.layers.Conv2D(128, (3,3), activation='relu'),\n",
    "        tf.keras.layers.MaxPooling2D(2,2),\n",
    "        tf.keras.layers.Conv2D(128, (3,3), activation='relu'),\n",
    "        tf.keras.layers.MaxPooling2D(2,2),\n",
    "        tf.keras.layers.Flatten(),\n",
    "        tf.keras.layers.Dense(512, activation='relu'),\n",
    "        tf.keras.layers.Dense(1, activation='sigmoid')\n",
    "    ])\n",
    "    return model"
   ]
  },
  {
   "cell_type": "code",
   "execution_count": 10,
   "id": "78ece031",
   "metadata": {},
   "outputs": [],
   "source": [
    "optimizers = [Adam()]\n",
    "optimizer_names = ['Adam']\n",
    "accuracies = []"
   ]
  },
  {
   "cell_type": "code",
   "execution_count": 11,
   "id": "06f90220",
   "metadata": {},
   "outputs": [
    {
     "name": "stderr",
     "output_type": "stream",
     "text": [
      "C:\\Users\\ProTech Computer\\anaconda3\\Lib\\site-packages\\keras\\src\\layers\\convolutional\\base_conv.py:99: UserWarning: Do not pass an `input_shape`/`input_dim` argument to a layer. When using Sequential models, prefer using an `Input(shape)` object as the first layer in the model instead.\n",
      "  super().__init__(\n"
     ]
    },
    {
     "name": "stdout",
     "output_type": "stream",
     "text": [
      "Epoch 1/20\n",
      "\u001b[1m63/63\u001b[0m \u001b[32m━━━━━━━━━━━━━━━━━━━━\u001b[0m\u001b[37m\u001b[0m \u001b[1m8s\u001b[0m 90ms/step - accuracy: 0.4949 - loss: 0.6959 - val_accuracy: 0.5489 - val_loss: 0.6917\n",
      "Epoch 2/20\n",
      "\u001b[1m63/63\u001b[0m \u001b[32m━━━━━━━━━━━━━━━━━━━━\u001b[0m\u001b[37m\u001b[0m \u001b[1m6s\u001b[0m 90ms/step - accuracy: 0.5160 - loss: 0.6863 - val_accuracy: 0.5013 - val_loss: 0.6886\n",
      "Epoch 3/20\n",
      "\u001b[1m63/63\u001b[0m \u001b[32m━━━━━━━━━━━━━━━━━━━━\u001b[0m\u001b[37m\u001b[0m \u001b[1m6s\u001b[0m 93ms/step - accuracy: 0.5531 - loss: 0.6789 - val_accuracy: 0.5940 - val_loss: 0.6598\n",
      "Epoch 4/20\n",
      "\u001b[1m63/63\u001b[0m \u001b[32m━━━━━━━━━━━━━━━━━━━━\u001b[0m\u001b[37m\u001b[0m \u001b[1m5s\u001b[0m 83ms/step - accuracy: 0.6372 - loss: 0.6589 - val_accuracy: 0.6040 - val_loss: 0.6614\n",
      "Epoch 5/20\n",
      "\u001b[1m63/63\u001b[0m \u001b[32m━━━━━━━━━━━━━━━━━━━━\u001b[0m\u001b[37m\u001b[0m \u001b[1m5s\u001b[0m 82ms/step - accuracy: 0.6646 - loss: 0.6245 - val_accuracy: 0.6541 - val_loss: 0.6192\n",
      "Epoch 6/20\n",
      "\u001b[1m63/63\u001b[0m \u001b[32m━━━━━━━━━━━━━━━━━━━━\u001b[0m\u001b[37m\u001b[0m \u001b[1m5s\u001b[0m 77ms/step - accuracy: 0.6881 - loss: 0.5902 - val_accuracy: 0.7243 - val_loss: 0.5745\n",
      "Epoch 7/20\n",
      "\u001b[1m63/63\u001b[0m \u001b[32m━━━━━━━━━━━━━━━━━━━━\u001b[0m\u001b[37m\u001b[0m \u001b[1m5s\u001b[0m 75ms/step - accuracy: 0.7331 - loss: 0.5259 - val_accuracy: 0.6867 - val_loss: 0.5845\n",
      "Epoch 8/20\n",
      "\u001b[1m63/63\u001b[0m \u001b[32m━━━━━━━━━━━━━━━━━━━━\u001b[0m\u001b[37m\u001b[0m \u001b[1m5s\u001b[0m 81ms/step - accuracy: 0.7584 - loss: 0.5006 - val_accuracy: 0.7368 - val_loss: 0.5431\n",
      "Epoch 9/20\n",
      "\u001b[1m63/63\u001b[0m \u001b[32m━━━━━━━━━━━━━━━━━━━━\u001b[0m\u001b[37m\u001b[0m \u001b[1m5s\u001b[0m 84ms/step - accuracy: 0.7924 - loss: 0.4462 - val_accuracy: 0.7393 - val_loss: 0.5470\n",
      "Epoch 10/20\n",
      "\u001b[1m63/63\u001b[0m \u001b[32m━━━━━━━━━━━━━━━━━━━━\u001b[0m\u001b[37m\u001b[0m \u001b[1m5s\u001b[0m 82ms/step - accuracy: 0.7996 - loss: 0.4240 - val_accuracy: 0.7243 - val_loss: 0.6178\n",
      "Epoch 11/20\n",
      "\u001b[1m63/63\u001b[0m \u001b[32m━━━━━━━━━━━━━━━━━━━━\u001b[0m\u001b[37m\u001b[0m \u001b[1m5s\u001b[0m 82ms/step - accuracy: 0.8452 - loss: 0.3693 - val_accuracy: 0.7193 - val_loss: 0.5827\n",
      "Epoch 12/20\n",
      "\u001b[1m63/63\u001b[0m \u001b[32m━━━━━━━━━━━━━━━━━━━━\u001b[0m\u001b[37m\u001b[0m \u001b[1m5s\u001b[0m 81ms/step - accuracy: 0.8679 - loss: 0.3019 - val_accuracy: 0.7018 - val_loss: 0.6952\n",
      "Epoch 13/20\n",
      "\u001b[1m63/63\u001b[0m \u001b[32m━━━━━━━━━━━━━━━━━━━━\u001b[0m\u001b[37m\u001b[0m \u001b[1m5s\u001b[0m 82ms/step - accuracy: 0.8645 - loss: 0.2954 - val_accuracy: 0.7218 - val_loss: 0.7160\n",
      "Epoch 14/20\n",
      "\u001b[1m63/63\u001b[0m \u001b[32m━━━━━━━━━━━━━━━━━━━━\u001b[0m\u001b[37m\u001b[0m \u001b[1m5s\u001b[0m 84ms/step - accuracy: 0.9290 - loss: 0.1732 - val_accuracy: 0.7343 - val_loss: 0.7547\n",
      "Epoch 15/20\n",
      "\u001b[1m63/63\u001b[0m \u001b[32m━━━━━━━━━━━━━━━━━━━━\u001b[0m\u001b[37m\u001b[0m \u001b[1m5s\u001b[0m 84ms/step - accuracy: 0.9649 - loss: 0.1102 - val_accuracy: 0.7243 - val_loss: 0.8763\n",
      "Epoch 16/20\n",
      "\u001b[1m63/63\u001b[0m \u001b[32m━━━━━━━━━━━━━━━━━━━━\u001b[0m\u001b[37m\u001b[0m \u001b[1m5s\u001b[0m 73ms/step - accuracy: 0.9637 - loss: 0.0960 - val_accuracy: 0.7419 - val_loss: 1.0987\n",
      "Epoch 17/20\n",
      "\u001b[1m63/63\u001b[0m \u001b[32m━━━━━━━━━━━━━━━━━━━━\u001b[0m\u001b[37m\u001b[0m \u001b[1m5s\u001b[0m 72ms/step - accuracy: 0.9813 - loss: 0.0545 - val_accuracy: 0.7544 - val_loss: 1.1248\n",
      "Epoch 18/20\n",
      "\u001b[1m63/63\u001b[0m \u001b[32m━━━━━━━━━━━━━━━━━━━━\u001b[0m\u001b[37m\u001b[0m \u001b[1m5s\u001b[0m 72ms/step - accuracy: 0.9853 - loss: 0.0422 - val_accuracy: 0.7318 - val_loss: 1.3263\n",
      "Epoch 19/20\n",
      "\u001b[1m63/63\u001b[0m \u001b[32m━━━━━━━━━━━━━━━━━━━━\u001b[0m\u001b[37m\u001b[0m \u001b[1m4s\u001b[0m 71ms/step - accuracy: 0.9849 - loss: 0.0442 - val_accuracy: 0.7143 - val_loss: 1.4103\n",
      "Epoch 20/20\n",
      "\u001b[1m63/63\u001b[0m \u001b[32m━━━━━━━━━━━━━━━━━━━━\u001b[0m\u001b[37m\u001b[0m \u001b[1m4s\u001b[0m 70ms/step - accuracy: 0.9871 - loss: 0.0447 - val_accuracy: 0.7368 - val_loss: 1.1507\n",
      "\u001b[1m13/13\u001b[0m \u001b[32m━━━━━━━━━━━━━━━━━━━━\u001b[0m\u001b[37m\u001b[0m \u001b[1m0s\u001b[0m 20ms/step - accuracy: 0.7544 - loss: 1.0839\n",
      "Optimizer: adam, Accuracy: 0.7368420958518982\n"
     ]
    }
   ],
   "source": [
    "# Biên dịch và huấn luyện mô hình với từng thuật toán\n",
    "for optimizer in optimizers:\n",
    "    model = create_model()\n",
    "    model.compile(optimizer=optimizer,\n",
    "                  loss='binary_crossentropy',\n",
    "                  metrics=['accuracy'])\n",
    "    history = model.fit(X_train, Y_train, epochs=20, validation_data=(X_test, Y_test))\n",
    "\n",
    "    # In kết quả\n",
    "    loss, accuracy = model.evaluate(X_test, Y_test)\n",
    "    accuracies.append(accuracy)\n",
    "    print(f'Optimizer: {optimizer.get_config()[\"name\"]}, Accuracy: {accuracy}')"
   ]
  },
  {
   "cell_type": "code",
   "execution_count": 12,
   "id": "ecb0b974",
   "metadata": {},
   "outputs": [],
   "source": [
    "# Lấy dữ liệu về độ chính xác và mất mát từ lịch sử huấn luyện\n",
    "acc = history.history['accuracy']\n",
    "val_acc = history.history['val_accuracy']\n",
    "loss = history.history['loss']\n",
    "val_loss = history.history['val_loss']\n",
    "\n",
    "# Xác định số epoch\n",
    "epochs = range(1, len(acc) + 1) "
   ]
  },
  {
   "cell_type": "code",
   "execution_count": 13,
   "id": "1dc4275c",
   "metadata": {},
   "outputs": [
    {
     "data": {
      "image/png": "[encoded data removed]",
      "text/plain": [
       "<Figure size 640x480 with 1 Axes>"
      ]
     },
     "metadata": {},
     "output_type": "display_data"
    }
   ],
   "source": [
    "#Vẽ đồ thị: Đồ thị độ chính xác và mất mát của quá trình huấn luyện và kiểm tra\n",
    "# Đồ thị này biểu diễn độ chính xác của mô hình trên tập huấn luyện (đường màu đỏ) \n",
    "# và tập kiểm tra (đường màu xanh) sau mỗi epoch. Độ chính xác là tỷ lệ giữa số lượng \n",
    "# dự đoán chính xác và tổng số lượng dự đoán. Mục tiêu là tối đa hóa độ chính xác.\n",
    "plt.plot(history.history['accuracy'],color='red',label='train')\n",
    "plt.plot(history.history['val_accuracy'],color='blue',label='validation')\n",
    "plt.legend()\n",
    "plt.show()"
   ]
  },
  {
   "cell_type": "code",
   "execution_count": 14,
   "id": "177706e2",
   "metadata": {},
   "outputs": [
    {
     "data": {
      "image/png": "[encoded data removed]",
      "text/plain": [
       "<Figure size 640x480 with 1 Axes>"
      ]
     },
     "metadata": {},
     "output_type": "display_data"
    }
   ],
   "source": [
    "# Đồ thị này biểu diễn giá trị hàm mất mát của mô hình trên tập huấn luyện (đường màu đỏ) \n",
    "# và tập kiểm tra (đường màu xanh) sau mỗi epoch. \n",
    "# Giá trị hàm mất mát thể hiện mức độ sai lệch giữa kết quả dự đoán của mô hình \n",
    "# và giá trị thực tế. Mục tiêu là tối thiểu hóa giá trị hàm mất mát.\n",
    "plt.plot(history.history['loss'],color='red',label='train')\n",
    "plt.plot(history.history['val_loss'],color='blue',label='validation')\n",
    "plt.legend()\n",
    "plt.show()"
   ]
  },
  {
   "cell_type": "code",
   "execution_count": 15,
   "id": "b7879931",
   "metadata": {},
   "outputs": [],
   "source": [
    "# Đọc hình ảnh\n",
    "img_path = \"dog1.jpg\"\n",
    "# img_path = \"dog8.webp\"\n",
    "img = cv2.imread(img_path)\n",
    "img = cv2.cvtColor(img, cv2.COLOR_BGR2RGB)\n",
    "img = cv2.resize(img, (100, 100))\n",
    "img = img / 255.0"
   ]
  },
  {
   "cell_type": "code",
   "execution_count": 16,
   "id": "6b32bb54",
   "metadata": {},
   "outputs": [
    {
     "data": {
      "image/png": "[encoded data removed]",
      "text/plain": [
       "<Figure size 640x480 with 1 Axes>"
      ]
     },
     "metadata": {},
     "output_type": "display_data"
    }
   ],
   "source": [
    "# Hiển thị hình ảnh\n",
    "plt.imshow(img)\n",
    "plt.show()"
   ]
  },
  {
   "cell_type": "code",
   "execution_count": 17,
   "id": "2864ec26",
   "metadata": {},
   "outputs": [],
   "source": [
    "# Chuẩn bị dữ liệu cho mô hình\n",
    "img_array = np.expand_dims(img, axis=0)"
   ]
  },
  {
   "cell_type": "code",
   "execution_count": 18,
   "id": "4f08fd38",
   "metadata": {},
   "outputs": [
    {
     "name": "stdout",
     "output_type": "stream",
     "text": [
      "\u001b[1m1/1\u001b[0m \u001b[32m━━━━━━━━━━━━━━━━━━━━\u001b[0m\u001b[37m\u001b[0m \u001b[1m0s\u001b[0m 57ms/step\n",
      "\u001b[1m1/1\u001b[0m \u001b[32m━━━━━━━━━━━━━━━━━━━━\u001b[0m\u001b[37m\u001b[0m \u001b[1m0s\u001b[0m 14ms/step\n",
      "mô hình dự đoán là: Đây là con Dog\n"
     ]
    }
   ],
   "source": [
    " # Dự đoán\n",
    "img = img.reshape(1, 100, 100, 3)\n",
    "pred = model.predict(img)[0][0]\n",
    "pred = model.predict(img_array)\n",
    "threshold = 0.5  # Đặt ngưỡng mong muốn\n",
    "if pred < threshold:\n",
    "    pred_label = 'Đây là con Dog'\n",
    "else:\n",
    "    pred_label = 'Đây là con Cat'\n",
    "\n",
    "print(f'mô hình dự đoán là: {pred_label}')"
   ]
  },
  {
   "cell_type": "code",
   "execution_count": 19,
   "id": "188ac98c",
   "metadata": {},
   "outputs": [
    {
     "name": "stdout",
     "output_type": "stream",
     "text": [
      "\u001b[1m13/13\u001b[0m \u001b[32m━━━━━━━━━━━━━━━━━━━━\u001b[0m\u001b[37m\u001b[0m \u001b[1m0s\u001b[0m 23ms/step - accuracy: 0.7544 - loss: 1.0839\n"
     ]
    }
   ],
   "source": [
    "# Đánh giá mô hình trên tập kiểm thử\n",
    "validation_loss, validation_acc = model.evaluate(X_test, Y_test)"
   ]
  },
  {
   "cell_type": "code",
   "execution_count": 20,
   "id": "4119d114",
   "metadata": {},
   "outputs": [
    {
     "name": "stdout",
     "output_type": "stream",
     "text": [
      "Độ chính xác trên tập kiểm thử: 73.68%\n",
      "Hàm mất mát trên tập kiểm thử: 1.15\n"
     ]
    }
   ],
   "source": [
    "print(\"Độ chính xác trên tập kiểm thử: {:.2f}%\".format(validation_acc * 100))\n",
    "print(\"Hàm mất mát trên tập kiểm thử: {:.2f}\".format(validation_loss))"
   ]
  },
  {
   "cell_type": "code",
   "execution_count": 21,
   "id": "4ed45883",
   "metadata": {},
   "outputs": [
    {
     "name": "stdout",
     "output_type": "stream",
     "text": [
      "\u001b[1m13/13\u001b[0m \u001b[32m━━━━━━━━━━━━━━━━━━━━\u001b[0m\u001b[37m\u001b[0m \u001b[1m0s\u001b[0m 23ms/step\n"
     ]
    }
   ],
   "source": [
    "# Dự đoán trên tập kiểm thử\n",
    "Y_pred = model.predict(X_test)\n",
    "Y_pred = (Y_pred > 0.5)"
   ]
  },
  {
   "cell_type": "code",
   "execution_count": 22,
   "id": "dce1df48",
   "metadata": {},
   "outputs": [],
   "source": [
    "# Tính toán các phép đo\n",
    "precision = precision_score(Y_test, Y_pred)\n",
    "recall = recall_score(Y_test, Y_pred)\n",
    "f1 = f1_score(Y_test, Y_pred)\n",
    "roc_auc = roc_auc_score(Y_test, Y_pred)"
   ]
  },
  {
   "cell_type": "code",
   "execution_count": 23,
   "id": "0a966260",
   "metadata": {},
   "outputs": [
    {
     "name": "stdout",
     "output_type": "stream",
     "text": [
      "Độ chính xác: 0.76\n",
      "Độ phủ: 0.69\n",
      "trung bình: 0.73\n",
      "Diện tích: 0.74\n"
     ]
    }
   ],
   "source": [
    "#mô hình loại \n",
    "#Precision (Độ chính xác) \n",
    "#Recall (Độ phủ) \n",
    "#F1 Score (trung bình của Precision và Recall) \n",
    "#ROC AUC (Diện tích dưới đường cong ROC) \n",
    "print(\"Độ chính xác: {:.2f}\".format(precision))\n",
    "print(\"Độ phủ: {:.2f}\".format(recall))\n",
    "print(\"trung bình: {:.2f}\".format(f1))\n",
    "print(\"Diện tích: {:.2f}\".format(roc_auc))"
   ]
  },
  {
   "cell_type": "code",
   "execution_count": null,
   "id": "c442b859",
   "metadata": {},
   "outputs": [],
   "source": []
  }
 ],
 "metadata": {
  "kernelspec": {
   "display_name": "Python 3 (ipykernel)",
   "language": "python",
   "name": "python3"
  },
  "language_info": {
   "codemirror_mode": {
    "name": "ipython",
    "version": 3
   },
   "file_extension": ".py",
   "mimetype": "text/x-python",
   "name": "python",
   "nbconvert_exporter": "python",
   "pygments_lexer": "ipython3",
   "version": "3.11.5"
  }
 },
 "nbformat": 4,
 "nbformat_minor": 5
}
