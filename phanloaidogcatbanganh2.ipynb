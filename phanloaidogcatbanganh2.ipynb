{
 "cells": [
  {
   "cell_type": "code",
   "execution_count": 1,
   "id": "e4467633",
   "metadata": {},
   "outputs": [],
   "source": [
    "import pandas as pd\n",
    "import numpy as np\n",
    "from sklearn.linear_model import LogisticRegression\n",
    "from sklearn.metrics import accuracy_score, precision_score, recall_score, f1_score, roc_auc_score\n",
    "import matplotlib.pyplot as plt\n",
    "import cv2"
   ]
  },
  {
   "cell_type": "code",
   "execution_count": 2,
   "id": "7a62ac68",
   "metadata": {},
   "outputs": [],
   "source": [
    "# Đọc tệp CSV\n",
    "input_data = pd.read_csv('input.csv')\n",
    "labels = pd.read_csv('labels.csv')\n",
    "input_test = pd.read_csv('input_test.csv')\n",
    "labels_test = pd.read_csv('labels_test.csv')"
   ]
  },
  {
   "cell_type": "code",
   "execution_count": 3,
   "id": "7759b795",
   "metadata": {},
   "outputs": [
    {
     "name": "stdout",
     "output_type": "stream",
     "text": [
      "   3.700000000000000000e+01  3.900000000000000000e+01  \\\n",
      "0                     131.0                     128.0   \n",
      "1                      80.0                      92.0   \n",
      "2                     149.0                     173.0   \n",
      "3                     255.0                     254.0   \n",
      "4                     111.0                     117.0   \n",
      "\n",
      "   2.500000000000000000e+01  2.600000000000000000e+01  \\\n",
      "0                     135.0                     160.0   \n",
      "1                      88.0                      83.0   \n",
      "2                     151.0                     131.0   \n",
      "3                     239.0                     253.0   \n",
      "4                     117.0                     107.0   \n",
      "\n",
      "   2.400000000000000000e+01  9.000000000000000000e+00  \\\n",
      "0                     157.0                     164.0   \n",
      "1                      96.0                      89.0   \n",
      "2                     153.0                     132.0   \n",
      "3                     246.0                     228.0   \n",
      "4                     113.0                     113.0   \n",
      "\n",
      "   3.400000000000000000e+01  2.500000000000000000e+01.1  \\\n",
      "0                     198.0                       192.0   \n",
      "1                      76.0                        92.0   \n",
      "2                     156.0                       173.0   \n",
      "3                     255.0                       252.0   \n",
      "4                     111.0                       117.0   \n",
      "\n",
      "   1.000000000000000000e+01  4.900000000000000000e+01  ...  \\\n",
      "0                     204.0                     204.0  ...   \n",
      "1                      82.0                      74.0  ...   \n",
      "2                     155.0                     143.0  ...   \n",
      "3                     233.0                     254.0  ...   \n",
      "4                     117.0                     122.0  ...   \n",
      "\n",
      "   2.100000000000000000e+01.135  6.700000000000000000e+01.232  \\\n",
      "0                          65.0                          63.0   \n",
      "1                          99.0                         133.0   \n",
      "2                          57.0                          48.0   \n",
      "3                         234.0                         255.0   \n",
      "4                         135.0                         164.0   \n",
      "\n",
      "   6.300000000000000000e+01.242  3.800000000000000000e+01.309  \\\n",
      "0                          91.0                          69.0   \n",
      "1                         128.0                         109.0   \n",
      "2                          48.0                          58.0   \n",
      "3                         254.0                         234.0   \n",
      "4                         168.0                         179.0   \n",
      "\n",
      "   7.800000000000000000e+01.179  7.400000000000000000e+01.218  \\\n",
      "0                          62.0                          87.0   \n",
      "1                         119.0                         114.0   \n",
      "2                          51.0                          51.0   \n",
      "3                         255.0                         254.0   \n",
      "4                         147.0                         147.0   \n",
      "\n",
      "   4.900000000000000000e+01.302  5.800000000000000000e+01.260  \\\n",
      "0                          65.0                          71.0   \n",
      "1                          94.0                         124.0   \n",
      "2                          61.0                          56.0   \n",
      "3                         234.0                         254.0   \n",
      "4                         157.0                         100.0   \n",
      "\n",
      "   5.400000000000000000e+01.266  2.900000000000000000e+01.298  \n",
      "0                          96.0                          74.0  \n",
      "1                         119.0                          99.0  \n",
      "2                          56.0                          66.0  \n",
      "3                         253.0                         233.0  \n",
      "4                         100.0                         108.0  \n",
      "\n",
      "[5 rows x 30000 columns]\n",
      "   0\n",
      "0  0\n",
      "1  0\n",
      "2  0\n",
      "3  0\n",
      "4  0\n",
      "   1.180000000000000000e+02  8.200000000000000000e+01  \\\n",
      "0                     223.0                     211.0   \n",
      "1                      73.0                      67.0   \n",
      "2                       0.0                       3.0   \n",
      "3                      27.0                      55.0   \n",
      "4                     121.0                     122.0   \n",
      "\n",
      "   9.600000000000000000e+01  1.090000000000000000e+02  \\\n",
      "0                     163.0                     223.0   \n",
      "1                      43.0                      75.0   \n",
      "2                       1.0                      18.0   \n",
      "3                      76.0                      73.0   \n",
      "4                     114.0                      96.0   \n",
      "\n",
      "   7.100000000000000000e+01  8.200000000000000000e+01.1  \\\n",
      "0                     209.0                       160.0   \n",
      "1                      69.0                        45.0   \n",
      "2                      24.0                        22.0   \n",
      "3                     105.0                       126.0   \n",
      "4                     102.0                        90.0   \n",
      "\n",
      "   1.160000000000000000e+02  7.700000000000000000e+01  \\\n",
      "0                     244.0                     228.0   \n",
      "1                      79.0                      71.0   \n",
      "2                      34.0                      40.0   \n",
      "3                     115.0                     151.0   \n",
      "4                      51.0                      64.0   \n",
      "\n",
      "   7.800000000000000000e+01  1.110000000000000000e+02  ...  \\\n",
      "0                     179.0                     226.0  ...   \n",
      "1                      50.0                      80.0  ...   \n",
      "2                      38.0                       0.0  ...   \n",
      "3                     175.0                     105.0  ...   \n",
      "4                      47.0                     149.0  ...   \n",
      "\n",
      "   3.700000000000000000e+01.20  1.230000000000000000e+02.78  \\\n",
      "0                         65.0                         69.0   \n",
      "1                        168.0                        224.0   \n",
      "2                         13.0                          6.0   \n",
      "3                        151.0                        178.0   \n",
      "4                         39.0                        126.0   \n",
      "\n",
      "   7.300000000000000000e+01.49  4.000000000000000000e+01.28  \\\n",
      "0                         73.0                         76.0   \n",
      "1                        213.0                        167.0   \n",
      "2                          6.0                          8.0   \n",
      "3                        164.0                        163.0   \n",
      "4                        143.0                         73.0   \n",
      "\n",
      "   1.390000000000000000e+02.108  8.200000000000000000e+01.66  \\\n",
      "0                          69.0                         72.0   \n",
      "1                         223.0                        212.0   \n",
      "2                           6.0                          7.0   \n",
      "3                         193.0                        175.0   \n",
      "4                         107.0                        127.0   \n",
      "\n",
      "   2.900000000000000000e+01.21  1.400000000000000000e+02.109  \\\n",
      "0                         77.0                          70.0   \n",
      "1                        166.0                         222.0   \n",
      "2                          9.0                          10.0   \n",
      "3                        171.0                         183.0   \n",
      "4                         58.0                          77.0   \n",
      "\n",
      "   7.900000000000000000e+01.49  1.600000000000000000e+01.30  \n",
      "0                         73.0                         78.0  \n",
      "1                        211.0                        165.0  \n",
      "2                         11.0                         13.0  \n",
      "3                        164.0                        158.0  \n",
      "4                         97.0                         28.0  \n",
      "\n",
      "[5 rows x 30000 columns]\n",
      "   0\n",
      "0  0\n",
      "1  0\n",
      "2  0\n",
      "3  0\n",
      "4  0\n"
     ]
    }
   ],
   "source": [
    "# Hiển thị dữ liệu\n",
    "print(input_data.head())\n",
    "print(labels.head())\n",
    "print(input_test.head())\n",
    "print(labels_test.head())"
   ]
  },
  {
   "cell_type": "code",
   "execution_count": 4,
   "id": "796ba7ed",
   "metadata": {},
   "outputs": [],
   "source": [
    "X_train = np.array(input_data)\n",
    "Y_train = np.array(labels)\n",
    "X_test = np.array(input_test)\n",
    "Y_test = np.array(labels_test)"
   ]
  },
  {
   "cell_type": "code",
   "execution_count": 5,
   "id": "be30b124",
   "metadata": {},
   "outputs": [],
   "source": [
    "# Chuyển đổi dữ liệu ảnh thành một vector một chiều\n",
    "X_train_flattened = X_train.reshape(len(X_train), -1)\n",
    "X_test_flattened = X_test.reshape(len(X_test), -1)"
   ]
  },
  {
   "cell_type": "code",
   "execution_count": 6,
   "id": "ba0400de",
   "metadata": {},
   "outputs": [],
   "source": [
    "# Chuẩn hóa dữ liệu\n",
    "X_train_flattened = X_train_flattened/255\n",
    "X_test_flattened = X_test_flattened/255"
   ]
  },
  {
   "cell_type": "code",
   "execution_count": 7,
   "id": "032cb31f",
   "metadata": {},
   "outputs": [
    {
     "name": "stdout",
     "output_type": "stream",
     "text": [
      "(1999, 30000)\n",
      "(399, 30000)\n"
     ]
    }
   ],
   "source": [
    "print(X_train_flattened.shape)\n",
    "print(X_test_flattened.shape)"
   ]
  },
  {
   "cell_type": "code",
   "execution_count": 8,
   "id": "eea5a743",
   "metadata": {},
   "outputs": [],
   "source": [
    "# Định nghĩa mô hình Hồi quy Logistic\n",
    "model = LogisticRegression()"
   ]
  },
  {
   "cell_type": "code",
   "execution_count": 9,
   "id": "415b0350",
   "metadata": {},
   "outputs": [
    {
     "name": "stderr",
     "output_type": "stream",
     "text": [
      "C:\\Users\\ProTech Computer\\anaconda3\\Lib\\site-packages\\sklearn\\utils\\validation.py:1184: DataConversionWarning: A column-vector y was passed when a 1d array was expected. Please change the shape of y to (n_samples, ), for example using ravel().\n",
      "  y = column_or_1d(y, warn=True)\n",
      "C:\\Users\\ProTech Computer\\anaconda3\\Lib\\site-packages\\sklearn\\linear_model\\_logistic.py:460: ConvergenceWarning: lbfgs failed to converge (status=1):\n",
      "STOP: TOTAL NO. of ITERATIONS REACHED LIMIT.\n",
      "\n",
      "Increase the number of iterations (max_iter) or scale the data as shown in:\n",
      "    https://scikit-learn.org/stable/modules/preprocessing.html\n",
      "Please also refer to the documentation for alternative solver options:\n",
      "    https://scikit-learn.org/stable/modules/linear_model.html#logistic-regression\n",
      "  n_iter_i = _check_optimize_result(\n"
     ]
    },
    {
     "data": {
      "text/html": [
       "<style>#sk-container-id-1 {color: black;}#sk-container-id-1 pre{padding: 0;}#sk-container-id-1 div.sk-toggleable {background-color: white;}#sk-container-id-1 label.sk-toggleable__label {cursor: pointer;display: block;width: 100%;margin-bottom: 0;padding: 0.3em;box-sizing: border-box;text-align: center;}#sk-container-id-1 label.sk-toggleable__label-arrow:before {content: \"▸\";float: left;margin-right: 0.25em;color: #696969;}#sk-container-id-1 label.sk-toggleable__label-arrow:hover:before {color: black;}#sk-container-id-1 div.sk-estimator:hover label.sk-toggleable__label-arrow:before {color: black;}#sk-container-id-1 div.sk-toggleable__content {max-height: 0;max-width: 0;overflow: hidden;text-align: left;background-color: #f0f8ff;}#sk-container-id-1 div.sk-toggleable__content pre {margin: 0.2em;color: black;border-radius: 0.25em;background-color: #f0f8ff;}#sk-container-id-1 input.sk-toggleable__control:checked~div.sk-toggleable__content {max-height: 200px;max-width: 100%;overflow: auto;}#sk-container-id-1 input.sk-toggleable__control:checked~label.sk-toggleable__label-arrow:before {content: \"▾\";}#sk-container-id-1 div.sk-estimator input.sk-toggleable__control:checked~label.sk-toggleable__label {background-color: #d4ebff;}#sk-container-id-1 div.sk-label input.sk-toggleable__control:checked~label.sk-toggleable__label {background-color: #d4ebff;}#sk-container-id-1 input.sk-hidden--visually {border: 0;clip: rect(1px 1px 1px 1px);clip: rect(1px, 1px, 1px, 1px);height: 1px;margin: -1px;overflow: hidden;padding: 0;position: absolute;width: 1px;}#sk-container-id-1 div.sk-estimator {font-family: monospace;background-color: #f0f8ff;border: 1px dotted black;border-radius: 0.25em;box-sizing: border-box;margin-bottom: 0.5em;}#sk-container-id-1 div.sk-estimator:hover {background-color: #d4ebff;}#sk-container-id-1 div.sk-parallel-item::after {content: \"\";width: 100%;border-bottom: 1px solid gray;flex-grow: 1;}#sk-container-id-1 div.sk-label:hover label.sk-toggleable__label {background-color: #d4ebff;}#sk-container-id-1 div.sk-serial::before {content: \"\";position: absolute;border-left: 1px solid gray;box-sizing: border-box;top: 0;bottom: 0;left: 50%;z-index: 0;}#sk-container-id-1 div.sk-serial {display: flex;flex-direction: column;align-items: center;background-color: white;padding-right: 0.2em;padding-left: 0.2em;position: relative;}#sk-container-id-1 div.sk-item {position: relative;z-index: 1;}#sk-container-id-1 div.sk-parallel {display: flex;align-items: stretch;justify-content: center;background-color: white;position: relative;}#sk-container-id-1 div.sk-item::before, #sk-container-id-1 div.sk-parallel-item::before {content: \"\";position: absolute;border-left: 1px solid gray;box-sizing: border-box;top: 0;bottom: 0;left: 50%;z-index: -1;}#sk-container-id-1 div.sk-parallel-item {display: flex;flex-direction: column;z-index: 1;position: relative;background-color: white;}#sk-container-id-1 div.sk-parallel-item:first-child::after {align-self: flex-end;width: 50%;}#sk-container-id-1 div.sk-parallel-item:last-child::after {align-self: flex-start;width: 50%;}#sk-container-id-1 div.sk-parallel-item:only-child::after {width: 0;}#sk-container-id-1 div.sk-dashed-wrapped {border: 1px dashed gray;margin: 0 0.4em 0.5em 0.4em;box-sizing: border-box;padding-bottom: 0.4em;background-color: white;}#sk-container-id-1 div.sk-label label {font-family: monospace;font-weight: bold;display: inline-block;line-height: 1.2em;}#sk-container-id-1 div.sk-label-container {text-align: center;}#sk-container-id-1 div.sk-container {/* jupyter's `normalize.less` sets `[hidden] { display: none; }` but bootstrap.min.css set `[hidden] { display: none !important; }` so we also need the `!important` here to be able to override the default hidden behavior on the sphinx rendered scikit-learn.org. See: https://github.com/scikit-learn/scikit-learn/issues/21755 */display: inline-block !important;position: relative;}#sk-container-id-1 div.sk-text-repr-fallback {display: none;}</style><div id=\"sk-container-id-1\" class=\"sk-top-container\"><div class=\"sk-text-repr-fallback\"><pre>LogisticRegression()</pre><b>In a Jupyter environment, please rerun this cell to show the HTML representation or trust the notebook. <br />On GitHub, the HTML representation is unable to render, please try loading this page with nbviewer.org.</b></div><div class=\"sk-container\" hidden><div class=\"sk-item\"><div class=\"sk-estimator sk-toggleable\"><input class=\"sk-toggleable__control sk-hidden--visually\" id=\"sk-estimator-id-1\" type=\"checkbox\" checked><label for=\"sk-estimator-id-1\" class=\"sk-toggleable__label sk-toggleable__label-arrow\">LogisticRegression</label><div class=\"sk-toggleable__content\"><pre>LogisticRegression()</pre></div></div></div></div></div>"
      ],
      "text/plain": [
       "LogisticRegression()"
      ]
     },
     "execution_count": 9,
     "metadata": {},
     "output_type": "execute_result"
    }
   ],
   "source": [
    "# Huấn luyện mô hình\n",
    "model.fit(X_train_flattened, Y_train)"
   ]
  },
  {
   "cell_type": "code",
   "execution_count": 10,
   "id": "f95198bd",
   "metadata": {},
   "outputs": [],
   "source": [
    "# Dự đoán trên tập kiểm thử\n",
    "Y_pred = model.predict(X_test_flattened)"
   ]
  },
  {
   "cell_type": "code",
   "execution_count": 11,
   "id": "7d80e6a7",
   "metadata": {},
   "outputs": [],
   "source": [
    "# Đánh giá mô hình\n",
    "accuracy = accuracy_score(Y_test, Y_pred)\n",
    "precision = precision_score(Y_test, Y_pred)\n",
    "recall = recall_score(Y_test, Y_pred)\n",
    "f1 = f1_score(Y_test, Y_pred)\n",
    "roc_auc = roc_auc_score(Y_test, Y_pred)"
   ]
  },
  {
   "cell_type": "code",
   "execution_count": 12,
   "id": "8ba938c0",
   "metadata": {},
   "outputs": [
    {
     "name": "stdout",
     "output_type": "stream",
     "text": [
      "Độ chính xác: 0.5914786967418546\n",
      "Độ chính xác: 0.5844748858447488\n",
      "Độ phủ: 0.64\n",
      "Điểm F1: 0.6109785202863961\n",
      "ROC AUC: 0.591356783919598\n"
     ]
    }
   ],
   "source": [
    "print(f'Độ chính xác: {accuracy}')\n",
    "print(f'Độ chính xác: {precision}')\n",
    "print(f'Độ phủ: {recall}')\n",
    "print(f'Điểm F1: {f1}')\n",
    "print(f'ROC AUC: {roc_auc}')"
   ]
  },
  {
   "cell_type": "code",
   "execution_count": 13,
   "id": "6ecf907c",
   "metadata": {},
   "outputs": [],
   "source": [
    "# Đọc hình ảnh\n",
    "img_path = \"dog2.jpg\"\n",
    "img = cv2.imread(img_path)\n",
    "img = cv2.cvtColor(img, cv2.COLOR_BGR2RGB)\n",
    "img = cv2.resize(img, (100, 100))\n",
    "img = img / 255.0"
   ]
  },
  {
   "cell_type": "code",
   "execution_count": 14,
   "id": "c9bbf017",
   "metadata": {},
   "outputs": [
    {
     "data": {
      "image/png": "[encoded data removed]",
      "text/plain": [
       "<Figure size 640x480 with 1 Axes>"
      ]
     },
     "metadata": {},
     "output_type": "display_data"
    }
   ],
   "source": [
    "# Hiển thị hình ảnh\n",
    "plt.imshow(img)\n",
    "plt.show()"
   ]
  },
  {
   "cell_type": "code",
   "execution_count": 15,
   "id": "744051a4",
   "metadata": {},
   "outputs": [],
   "source": [
    "# Chuẩn bị dữ liệu cho mô hình\n",
    "img_flattened = img.flatten().reshape(1, -1)"
   ]
  },
  {
   "cell_type": "code",
   "execution_count": 16,
   "id": "621c5efd",
   "metadata": {},
   "outputs": [],
   "source": [
    "# Dự đoán\n",
    "pred = model.predict(img_flattened)"
   ]
  },
  {
   "cell_type": "code",
   "execution_count": 19,
   "id": "83c178cb",
   "metadata": {},
   "outputs": [
    {
     "name": "stdout",
     "output_type": "stream",
     "text": [
      "Mô hình dự đoán là: Đây là con Cat\n"
     ]
    }
   ],
   "source": [
    "# In kết quả\n",
    "if pred[0] == 0:\n",
    "    pred_label = 'Đây là con Dog'\n",
    "else:\n",
    "    pred_label = 'Đây là con Cat'\n",
    "\n",
    "print(f'Mô hình dự đoán là: {pred_label}')"
   ]
  },
  {
   "cell_type": "code",
   "execution_count": null,
   "id": "6f284f3e",
   "metadata": {},
   "outputs": [],
   "source": []
  }
 ],
 "metadata": {
  "kernelspec": {
   "display_name": "Python 3 (ipykernel)",
   "language": "python",
   "name": "python3"
  },
  "language_info": {
   "codemirror_mode": {
    "name": "ipython",
    "version": 3
   },
   "file_extension": ".py",
   "mimetype": "text/x-python",
   "name": "python",
   "nbconvert_exporter": "python",
   "pygments_lexer": "ipython3",
   "version": "3.11.5"
  }
 },
 "nbformat": 4,
 "nbformat_minor": 5
}
